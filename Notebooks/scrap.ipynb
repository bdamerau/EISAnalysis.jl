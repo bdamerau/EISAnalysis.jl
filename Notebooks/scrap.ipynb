{
 "cells": [
  {
   "cell_type": "code",
   "execution_count": 1,
   "metadata": {},
   "outputs": [],
   "source": [
    "using EISAnalysis\n",
    "using Documenter: doctest"
   ]
  },
  {
   "cell_type": "code",
   "execution_count": 2,
   "metadata": {},
   "outputs": [
    {
     "name": "stderr",
     "output_type": "stream",
     "text": [
      "┌ Info: SetupBuildDirectory: setting up build directory.\n",
      "└ @ Documenter /Users/briandamerau/.julia/packages/Documenter/iwb7N/src/builder_pipeline.jl:75\n",
      "┌ Info: Doctest: running doctests.\n",
      "└ @ Documenter /Users/briandamerau/.julia/packages/Documenter/iwb7N/src/builder_pipeline.jl:209\n",
      "┌ Error: doctest failure in ~/Documents/GitHub/EISAnalysis.jl/src/circuits.jl:17-21\n",
      "│ \n",
      "│ ```jldoctest\n",
      "│ julia> using EISAnalysis\n",
      "│ julia> eval(initialize());\n",
      "│ julia> silly_circuit = 0.25r/2.5l-(r-9wo)/q^0.64-(16r-ws^144)/12.1c;\n",
      "│ ```\n",
      "│ \n",
      "│ Subexpression:\n",
      "│ \n",
      "│ silly_circuit = 0.25r/2.5l-(r-9wo)/q^0.64-(16r-ws^144)/12.1c;\n",
      "│ \n",
      "│ Evaluated output:\n",
      "│ \n",
      "│ ERROR: UndefVarError: `r` not defined in `Main`\n",
      "│ Suggestion: check for spelling errors or missing imports.\n",
      "│ Stacktrace:\n",
      "│  [1] top-level scope\n",
      "│    @ none:1\n",
      "│ \n",
      "│ Expected output:\n",
      "│ \n",
      "│ using EISAnalysis\n",
      "│ \n",
      "│   diff = \u001b[31musing \u001b[39m\u001b[31mEISAnalysis\u001b[39m\u001b[32mERROR: \u001b[39m\u001b[32mUndefVarError: \u001b[39m\u001b[32m`r` \u001b[39m\u001b[32mnot \u001b[39m\u001b[32mdefined \u001b[39m\u001b[32min \u001b[39m\u001b[32m`Main`\u001b[39m\n",
      "\u001b[32mSuggestion: \u001b[39m\u001b[32mcheck \u001b[39m\u001b[32mfor \u001b[39m\u001b[32mspelling \u001b[39m\u001b[32merrors \u001b[39m\u001b[32mor \u001b[39m\u001b[32mmissing \u001b[39m\u001b[32mimports.\u001b[39m\n",
      "\u001b[32mStacktrace:\u001b[39m\n",
      "\u001b[32m \u001b[39m\u001b[32m[1] \u001b[39m\u001b[32mtop-level \u001b[39m\u001b[32mscope\u001b[39m\n",
      "\u001b[32m   \u001b[39m\u001b[32m@ \u001b[39m\u001b[32mnone:1\u001b[39m\n",
      "└ @ Documenter /Users/briandamerau/Documents/GitHub/EISAnalysis.jl/src/circuits.jl:17\n",
      "┌ Error: Doctesting failed\n",
      "│   exception = (ErrorException(\"`makedocs` encountered a doctest error. Terminating build\"), Union{Ptr{Nothing}, Base.InterpreterIP}[Ptr{Nothing} @0x0000000117d0d607, Ptr{Nothing} @0x00000001785e43c7, Ptr{Nothing} @0x0000000178563beb, Ptr{Nothing} @0x00000001785e7ecb, Ptr{Nothing} @0x0000000178525a97, Ptr{Nothing} @0x00000001031f9d2f, Ptr{Nothing} @0x00000001785e65b3, Ptr{Nothing} @0x000000010614c33b, Ptr{Nothing} @0x00000001061540df, Ptr{Nothing} @0x000000010615412b, Ptr{Nothing} @0x00000001060a460f, Ptr{Nothing} @0x00000001060e4baf, Ptr{Nothing} @0x00000001060f4323, Ptr{Nothing} @0x00000001060fc01b, Ptr{Nothing} @0x00000001060fc053, Ptr{Nothing} @0x000000010320995f, Ptr{Nothing} @0x000000010320935f, Ptr{Nothing} @0x0000000103208017, Ptr{Nothing} @0x0000000103208633, Base.InterpreterIP in top-level CodeInfo for Main at statement 0, Ptr{Nothing} @0x0000000103221c0f, Ptr{Nothing} @0x000000010322198f, Ptr{Nothing} @0x0000000103222923, Ptr{Nothing} @0x0000000105e1c2b3, Ptr{Nothing} @0x00000001031fa76f, Ptr{Nothing} @0x0000000105df4477, Ptr{Nothing} @0x0000000105dfc34f, Ptr{Nothing} @0x0000000105e040bf, Ptr{Nothing} @0x0000000105e04113, Ptr{Nothing} @0x0000000105b442e3, Ptr{Nothing} @0x000000010567d8c3, Ptr{Nothing} @0x0000000105684013, Ptr{Nothing} @0x0000000105684057, Ptr{Nothing} @0x000000010540cc57, Ptr{Nothing} @0x0000000103221b43, Ptr{Nothing} @0x000000010322198f, Ptr{Nothing} @0x0000000103222923, Ptr{Nothing} @0x000000011795b61f, Ptr{Nothing} @0x00000001175bbe93, Ptr{Nothing} @0x0000000117fb9487, Ptr{Nothing} @0x000000011789b16b, Ptr{Nothing} @0x0000000117f1ed73, Ptr{Nothing} @0x0000000117822367, Ptr{Nothing} @0x0000000117bb15db, Ptr{Nothing} @0x00000001032533bb, Ptr{Nothing} @0x00000001032532c7])\n",
      "└ @ Documenter /Users/briandamerau/.julia/packages/Documenter/iwb7N/src/doctest.jl:99\n"
     ]
    },
    {
     "name": "stdout",
     "output_type": "stream",
     "text": [
      "Doctests: EISAnalysis: \u001b[91m\u001b[1mTest Failed\u001b[22m\u001b[39m at \u001b[39m\u001b[1m/Users/briandamerau/.julia/packages/Documenter/iwb7N/src/doctest.jl:110\u001b[22m\n",
      "  Expression: all_doctests()\n",
      "\n",
      "Stacktrace:\n",
      " [1] \u001b[0m\u001b[1mmacro expansion\u001b[22m\n",
      "\u001b[90m   @\u001b[39m \u001b[90m~/.julia/juliaup/julia-1.11.3+0.aarch64.apple.darwin14/share/julia/stdlib/v1.11/Test/src/\u001b[39m\u001b[90m\u001b[4mTest.jl:679\u001b[24m\u001b[39m\u001b[90m [inlined]\u001b[39m\n",
      " [2] \u001b[0m\u001b[1mmacro expansion\u001b[22m\n",
      "\u001b[90m   @\u001b[39m \u001b[90m~/.julia/packages/Documenter/iwb7N/src/\u001b[39m\u001b[90m\u001b[4mdoctest.jl:110\u001b[24m\u001b[39m\u001b[90m [inlined]\u001b[39m\n",
      " [3] \u001b[0m\u001b[1mmacro expansion\u001b[22m\n",
      "\u001b[90m   @\u001b[39m \u001b[90m~/.julia/juliaup/julia-1.11.3+0.aarch64.apple.darwin14/share/julia/stdlib/v1.11/Test/src/\u001b[39m\u001b[90m\u001b[4mTest.jl:1704\u001b[24m\u001b[39m\u001b[90m [inlined]\u001b[39m\n",
      " [4] \u001b[0m\u001b[1mdoctest\u001b[22m\u001b[0m\u001b[1m(\u001b[22m\u001b[90msource\u001b[39m::\u001b[0mString, \u001b[90mmodules\u001b[39m::\u001b[0mVector\u001b[90m{Module}\u001b[39m; \u001b[90mfix\u001b[39m::\u001b[0mBool, \u001b[90mtestset\u001b[39m::\u001b[0mString, \u001b[90mdoctestfilters\u001b[39m::\u001b[0mVector\u001b[90m{Regex}\u001b[39m, \u001b[90mplugins\u001b[39m::\u001b[0mVector\u001b[90m{Documenter.Plugin}\u001b[39m\u001b[0m\u001b[1m)\u001b[22m\n",
      "\u001b[90m   @\u001b[39m \u001b[35mDocumenter\u001b[39m \u001b[90m~/.julia/packages/Documenter/iwb7N/src/\u001b[39m\u001b[90m\u001b[4mdoctest.jl:110\u001b[24m\u001b[39m\n",
      "\u001b[0m\u001b[1mTest Summary:         | \u001b[22m\u001b[91m\u001b[1mFail  \u001b[22m\u001b[39m\u001b[36m\u001b[1mTotal  \u001b[22m\u001b[39m\u001b[0m\u001b[1mTime\u001b[22m\n",
      "Doctests: EISAnalysis | \u001b[91m   1  \u001b[39m\u001b[36m    1  \u001b[39m\u001b[0m2.8s\n"
     ]
    },
    {
     "ename": "Test.TestSetException",
     "evalue": "Some tests did not pass: 0 passed, 1 failed, 0 errored, 0 broken.",
     "output_type": "error",
     "traceback": [
      "Some tests did not pass: 0 passed, 1 failed, 0 errored, 0 broken.\n",
      "\n",
      "Stacktrace:\n",
      " [1] finish(ts::Test.DefaultTestSet; print_results::Bool)\n",
      "   @ Test ~/.julia/juliaup/julia-1.11.3+0.aarch64.apple.darwin14/share/julia/stdlib/v1.11/Test/src/Test.jl:1258\n",
      " [2] finish\n",
      "   @ ~/.julia/juliaup/julia-1.11.3+0.aarch64.apple.darwin14/share/julia/stdlib/v1.11/Test/src/Test.jl:1233 [inlined]\n",
      " [3] macro expansion\n",
      "   @ ~/.julia/juliaup/julia-1.11.3+0.aarch64.apple.darwin14/share/julia/stdlib/v1.11/Test/src/Test.jl:1720 [inlined]\n",
      " [4] doctest(source::String, modules::Vector{Module}; fix::Bool, testset::String, doctestfilters::Vector{Regex}, plugins::Vector{Documenter.Plugin})\n",
      "   @ Documenter ~/.julia/packages/Documenter/iwb7N/src/doctest.jl:110\n",
      " [5] doctest\n",
      "   @ ~/.julia/packages/Documenter/iwb7N/src/doctest.jl:69 [inlined]\n",
      " [6] doctest(package::Module; manual::Bool, testset::Nothing, kwargs::@Kwargs{})\n",
      "   @ Documenter ~/.julia/packages/Documenter/iwb7N/src/doctest.jl:37\n",
      " [7] doctest(package::Module)\n",
      "   @ Documenter ~/.julia/packages/Documenter/iwb7N/src/doctest.jl:20\n",
      " [8] top-level scope\n",
      "   @ ~/Documents/GitHub/EISAnalysis.jl/Notebooks/jl_notebook_cell_df34fa98e69747e1a8f8a730347b8e2f_W3sZmlsZQ==.jl:1"
     ]
    }
   ],
   "source": [
    "doctest(EISAnalysis)"
   ]
  }
 ],
 "metadata": {
  "kernelspec": {
   "display_name": "Julia 1.11.3",
   "language": "julia",
   "name": "julia-1.11"
  },
  "language_info": {
   "file_extension": ".jl",
   "mimetype": "application/julia",
   "name": "julia",
   "version": "1.11.3"
  }
 },
 "nbformat": 4,
 "nbformat_minor": 2
}
