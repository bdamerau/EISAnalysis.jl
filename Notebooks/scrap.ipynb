{
 "cells": [
  {
   "cell_type": "code",
   "execution_count": 10,
   "metadata": {},
   "outputs": [],
   "source": [
    "#trying to understand how to adjust τ based on initial drt data\n",
    "using EISAnalysis"
   ]
  },
  {
   "cell_type": "code",
   "execution_count": null,
   "metadata": {},
   "outputs": [
    {
     "data": {
      "text/plain": [
       "tuning (generic function with 1 method)"
      ]
     },
     "metadata": {},
     "output_type": "display_data"
    }
   ],
   "source": [
    "function tuning(ω_exp,Z_exp;ppd=7,tol = 1e-04)\n",
    "    # fit = compute_drt(ω_exp,Z_exp)\n",
    "    τ_init = logrange(0.1/maximum(ω_exp),10/minimum(ω_exp),floor(Int,log10(100*maximum(ω_exp)/minimum(ω_exp)))*ppd)\n",
    "    # τ_init = logrange(1/maximum(ω_exp),1/minimum(ω_exp),floor(Int,log10(maximum(ω_exp)/minimum(ω_exp)))*ppd)#testing\n",
    "    ω_init = 1 ./τ_init\n",
    "    n = length(ω_init) + 1\n",
    "    dlnτ = log(τ_init[end]/τ_init[end-1])\n",
    "\n",
    "    #cutting down data if it's too dense\n",
    "    while length(ω_exp)>=length(ω_init)\n",
    "        ω_exp = ω_exp[1:2:end]\n",
    "        Z_exp = Z_exp[1:2:end]\n",
    "    end\n",
    "\n",
    "    Z_real,Z_imag = build_Z_matrices(ω_exp,ω_init)\n",
    "\n",
    "    function drt_fit(ω,p)\n",
    "        Z_drt = drt_Z(Z_real,Z_imag,p)\n",
    "        return vcat(real(Z_drt),imag(Z_drt))\n",
    "    end \n",
    "    fit_funct = drt_fit\n",
    "    p0 = abs.(rand(n))\n",
    "    fit = curve_fit(fit_funct, ω_exp, vcat(real(Z_exp),imag(Z_exp)), p0;lower = zeros(n),autodiff=:forwarddiff)\n",
    "    p = fit.param\n",
    "    γ_init = p[2:end]/dlnτ\n",
    "    γ_max = maximum(γ_init)\n",
    "    peaks = findmaxima(γ_init)\n",
    "    peaks = peakheights(peaks,min = tol*γ_max)\n",
    "    τ_pks,γ_pks = peaks.indices,peaks.heights\n",
    "    Z_im = ω-> sum([γ_pks[i]*τ_pks[i]*10^ω/(1+τ_pks[i]^2*10^2ω) \n",
    "                    for i in eachindex(γ_pks)])\n",
    "\n",
    "    #I'm trying to account for just local maxima\n",
    "    γ_max0 = Z_im(1/τ_pks[1])\n",
    "    γ_max1 = Z_im(1/τ_pks[end])\n",
    "    Z_im_min = ω-> Z_im(ω) - tol*γ_max0*10 #relieving the tolerance slightly\n",
    "    Z_im_max = ω-> Z_im(ω) - tol*γ_max1*10\n",
    "    min = find_zeros(Z_im_min,-10,10)[1]\n",
    "    max = find_zeros(Z_im_max,-10,10)[2]\n",
    "    τ_min,τ_max = 10^-max,10^-min\n",
    "    τ_tuned = logrange(τ_min,τ_max,floor(Int,log10(τ_max/τ_min))*ppd)\n",
    "    return τ_tuned\n",
    "end"
   ]
  },
  {
   "cell_type": "code",
   "execution_count": 21,
   "metadata": {},
   "outputs": [
    {
     "data": {
      "text/plain": [
       "3"
      ]
     },
     "metadata": {},
     "output_type": "display_data"
    }
   ],
   "source": [
    "ω_exp = [1,2,3]\n",
    "maxa = 3"
   ]
  },
  {
   "cell_type": "code",
   "execution_count": 28,
   "metadata": {},
   "outputs": [
    {
     "data": {
      "text/plain": [
       "(0.001, 10.0)"
      ]
     },
     "metadata": {},
     "output_type": "display_data"
    }
   ],
   "source": [
    "min(10.0^-maxa ,0.1/maximum(ω_exp)),max(10.0/minimum(ω_exp),10.0^-maxa)"
   ]
  },
  {
   "cell_type": "code",
   "execution_count": null,
   "metadata": {},
   "outputs": [
    {
     "data": {
      "text/plain": [
       "0.001"
      ]
     },
     "metadata": {},
     "output_type": "display_data"
    }
   ],
   "source": []
  },
  {
   "cell_type": "code",
   "execution_count": null,
   "metadata": {},
   "outputs": [],
   "source": []
  }
 ],
 "metadata": {
  "kernelspec": {
   "display_name": "Julia 1.11.3",
   "language": "julia",
   "name": "julia-1.11"
  },
  "language_info": {
   "file_extension": ".jl",
   "mimetype": "application/julia",
   "name": "julia",
   "version": "1.11.3"
  }
 },
 "nbformat": 4,
 "nbformat_minor": 2
}
