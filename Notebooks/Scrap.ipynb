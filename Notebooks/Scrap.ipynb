{
 "cells": [
  {
   "cell_type": "code",
   "execution_count": 1,
   "metadata": {},
   "outputs": [
    {
     "name": "stderr",
     "output_type": "stream",
     "text": [
      "WARNING: Method definition (::Type{EISAnalysis.Resistor})(Float64, Array{Real, 1}, Array{Base.Complex{Float64}, 1}, Symbol) in module EISAnalysis at /Users/briandamerau/Documents/GitHub/EISAnalysis.jl/src/library.jl:6 overwritten on the same line (check for duplicate calls to `include`).\n",
      "ERROR: Method overwriting is not permitted during Module precompilation. Use `__precompile__(false)` to opt-out of precompilation.\n"
     ]
    }
   ],
   "source": [
    "using EISAnalysis"
   ]
  },
  {
   "cell_type": "code",
   "execution_count": 2,
   "metadata": {},
   "outputs": [
    {
     "data": {
      "text/plain": [
       "get_params (generic function with 5 methods)"
      ]
     },
     "metadata": {},
     "output_type": "display_data"
    }
   ],
   "source": [
    "get_params(a::Resistor) = a.R\n",
    "get_params(a::Capacitor) = a.C\n",
    "get_params(a::Inductor) = a.L\n",
    "get_params(a::CPE) = (a.Q,a.n)\n",
    "get_params(a::Warburg) = (a.A,a.B)"
   ]
  },
  {
   "cell_type": "code",
   "execution_count": null,
   "metadata": {},
   "outputs": [
    {
     "name": "stdout",
     "output_type": "stream",
     "text": [
      "[:r, :r, :wo, :q, :r, :ws, :q]\n",
      "Any[UndefInitializer(), -, -, /, -, -, /]\n",
      "[0, 3, 1, 2, 6, 4, 5]\n",
      "[1, 1, 1, 1, 2, 2, 2]\n"
     ]
    }
   ],
   "source": [
    "#let's try to rebuild the following circuit\n",
    "circuit = r-(r-wo)/q-(r-ws)/q #- (r-ws)/c\n",
    "# circuit = r-r/c-r/c\n",
    "println(circuit.elements)\n",
    "println(vcat(undef,circuit.operators))\n",
    "println(vcat(undef,circuit.order))\n",
    "println(circuit.subcircuits)"
   ]
  },
  {
   "cell_type": "code",
   "execution_count": null,
   "metadata": {},
   "outputs": [
    {
     "name": "stdout",
     "output_type": "stream",
     "text": [
      "Any[UndefInitializer(), -, -, /, -, -, -, /]\n",
      "Any[UndefInitializer(), -, -, /, -, -, -, /]\n"
     ]
    }
   ],
   "source": [
    "function rebuild(subelements,suboperators,suborder)\n",
    "    suborder = suborder[2:end]\n",
    "    suboperators = suboperators[2:end]\n",
    "    #sorted_index\n",
    "    si = sortperm(suborder)\n",
    "    #initialize subcircuit\n",
    "    if suboperators[si[1]]==-\n",
    "        subcircuit = eval(:( $(subelements[si[1]]) - $(subelements[si[2]]) ) )\n",
    "    elseif suboperators[si[1]]==/\n",
    "        subcircuit = eval(:( $(subelements[si[1]]) / $(subelements[si[2]]) ) )  \n",
    "    #rest of the subcircuit\n",
    "    for i in si[2:end]\n",
    "        if suboperators[si[i]]==-\n",
    "            subcircuit = eval(:( $subcircuit - $(subelements[si[i+1]]) ) )\n",
    "        elseif suboperators[si[i]]==/\n",
    "            subcircuit = eval(:( $subcircuit / $(subelements[si[i+1]]) ) )  \n",
    "\n",
    "\n",
    "end\n",
    "\n",
    "\n",
    "# function rebuild(circuit)\n",
    "#     fullcircuit = undef\n",
    "#     operators = vcat(undef,circuit.operators)\n",
    "#     order = vcat(undef,circuit.order)\n",
    "#     for i in 1:maximum(circuit.subcircuits)\n",
    "#         sub_i = findall(isequal(i),circuit.subcircuits)\n",
    "#         subelements = circuit.elements[sub_i]\n",
    "#         suboperators = circuit.operators[sub_i]\n",
    "#         suborder = order[sub_i]\n",
    "#     end\n",
    "# end\n",
    "rebuild(circuit)"
   ]
  },
  {
   "cell_type": "code",
   "execution_count": 31,
   "metadata": {},
   "outputs": [
    {
     "data": {
      "text/plain": [
       "6-element Vector{Symbol}:\n",
       " :wo\n",
       " :q\n",
       " :r\n",
       " :ws\n",
       " :q\n",
       " :r"
      ]
     },
     "metadata": {},
     "output_type": "display_data"
    }
   ],
   "source": [
    "order = vcat(0,circuit.order)\n",
    "\n",
    "circuit.elements[sortperm(order[2:end]).+1]"
   ]
  },
  {
   "cell_type": "code",
   "execution_count": null,
   "metadata": {},
   "outputs": [],
   "source": []
  },
  {
   "cell_type": "code",
   "execution_count": null,
   "metadata": {},
   "outputs": [],
   "source": []
  },
  {
   "cell_type": "code",
   "execution_count": null,
   "metadata": {},
   "outputs": [],
   "source": []
  },
  {
   "cell_type": "code",
   "execution_count": null,
   "metadata": {},
   "outputs": [],
   "source": []
  },
  {
   "cell_type": "code",
   "execution_count": null,
   "metadata": {},
   "outputs": [],
   "source": []
  },
  {
   "cell_type": "code",
   "execution_count": null,
   "metadata": {},
   "outputs": [],
   "source": []
  },
  {
   "cell_type": "code",
   "execution_count": null,
   "metadata": {},
   "outputs": [],
   "source": []
  },
  {
   "cell_type": "code",
   "execution_count": null,
   "metadata": {},
   "outputs": [
    {
     "data": {
      "text/plain": [
       "rebuild_circuit (generic function with 1 method)"
      ]
     },
     "metadata": {},
     "output_type": "display_data"
    }
   ],
   "source": [
    "function rebuild_circuit(circuit::Circuit)\n",
    "\n",
    "    subcircuits = Vector(undef,maximum(circuit.subcircuits))\n",
    "    subelements = [circuit.elements[findall(isequal(i),circuit.subcircuits)] for i in eachindex(subcircuits)]\n",
    "    \n",
    "\n",
    "\n",
    "\n",
    "    sis = [sortperm(circuit.order[findall(isequal(i),circuit.subcircuits)]) for i in eachindex(subcircuits)]\n",
    "    for i in eachindex(subcircuits)\n",
    "        #generate the sorted indices\n",
    "        si = sis[i]\n",
    "        if i ==1\n",
    "            subelements = circuit.elements[1:length(si)+1]\n",
    "        else\n",
    "            subelements = circuit.elements[length(sis[i-1])+1:length(si)+1]\n",
    "        end\n",
    "        #initializing the rebuilt subcircuit\n",
    "        if circuit.operators[si[1]]==-\n",
    "            subcircuits[i] = eval(:($(circuit.elements[si[1]])-$(circuit.elements[si[1+1]])))\n",
    "        elseif circuit.operators[si[1]]==/\n",
    "            subcircuits[i] = eval(:($(circuit.elements[si[1]])/$(circuit.elements[si[1+1]])))   \n",
    "        end\n",
    "        for j in 2:length(si)-1\n",
    "            if circuit.operators[j]==-\n",
    "                subcircuits[i] = eval(:($(subcircuits[i])-$(circuit.elements[si[j+1]])))\n",
    "            elseif circuit.operators[j]==/\n",
    "                subcircuits[i] = eval(:($(subcircuits[i])/$(circuit.elements[si[j+1]])))\n",
    "            end\n",
    "        end\n",
    "    end\n",
    "    fullcircuit = subcircuits[1]\n",
    "    for subcircuit in subcircuits\n",
    "        fullcircuit = fullcircuit-subcircuit\n",
    "    end\n",
    "    return fullcircuit\n",
    "end "
   ]
  },
  {
   "cell_type": "code",
   "execution_count": 14,
   "metadata": {},
   "outputs": [
    {
     "name": "stdout",
     "output_type": "stream",
     "text": [
      "  0.022575 seconds (15.82 k allocations: 766.648 KiB, 97.75% compilation time)\n",
      "[:r, :wo, :r, :q, :r, :wo, :r, :q, :r, :r, :r, :r]\n",
      "Function[-, -, /, -, -, -, /, -, -, -, -]\n",
      "[1, 2, 3, 4, 5, 6, 7, 8]\n",
      "[1, 1, 1, 2, 2, 2, 3, 4]\n"
     ]
    }
   ],
   "source": [
    "@time fullcircuit = rebuild_circuit(circuit)\n",
    "println(fullcircuit.elements)\n",
    "println(fullcircuit.operators)\n",
    "println(fullcircuit.order)\n",
    "println(fullcircuit.subcircuits)"
   ]
  },
  {
   "cell_type": "code",
   "execution_count": 15,
   "metadata": {},
   "outputs": [
    {
     "data": {
      "text/plain": [
       "57-element Vector{ComplexF64}:\n",
       "    2.9977639320225 + 0.0022460679774997895im\n",
       " 2.9973641932028556 + 0.0026497017520868155im\n",
       " 2.9968929936201523 + 0.003126313357136844im\n",
       "  2.996337558331332 + 0.0036892686266212045im\n",
       " 2.9956828286342123 + 0.004354447302990555im\n",
       " 2.9949110538029817 + 0.005140740943811499im\n",
       " 2.9940013098388016 + 0.00607065872849844im\n",
       " 2.9929289321881347 + 0.007171067811865474im\n",
       " 2.9916648470488747 + 0.00847410250056286im\n",
       " 2.9901747831350054 + 0.010018286637882325im\n",
       "                    ⋮\n",
       " 1.3333844083632869 + 0.008954237535419907im\n",
       "  1.333359787922614 + 0.006444336721358468im\n",
       " 1.3333470355300534 + 0.004637934181971559im\n",
       " 1.3333404303807441 + 0.003337868713970238im\n",
       " 1.3333370092389245 + 0.0024022214846581846im\n",
       " 1.3333352372614797 + 0.0017288463216118544im\n",
       " 1.3333343194687473 + 0.001244226649760094im\n",
       " 1.3333338440997977 + 0.0008954523630109179im\n",
       " 1.3333335978838932 + 0.0006444443370128283im"
      ]
     },
     "metadata": {},
     "output_type": "display_data"
    }
   ],
   "source": [
    "fullcircuit.Z-circuit.Z"
   ]
  },
  {
   "cell_type": "code",
   "execution_count": 4,
   "metadata": {},
   "outputs": [
    {
     "data": {
      "text/plain": [
       "4-element Vector{Int64}:\n",
       " 2\n",
       " 4\n",
       " 6\n",
       " 8"
      ]
     },
     "metadata": {},
     "output_type": "display_data"
    }
   ],
   "source": [
    "a = [2,4,6,8]"
   ]
  },
  {
   "cell_type": "code",
   "execution_count": 5,
   "metadata": {},
   "outputs": [
    {
     "data": {
      "text/plain": [
       "5-element Vector{Any}:\n",
       " #undef\n",
       "   2\n",
       "   4\n",
       "   6\n",
       "   8"
      ]
     },
     "metadata": {},
     "output_type": "display_data"
    }
   ],
   "source": [
    "vcat(Vector(undef,1),a)"
   ]
  },
  {
   "cell_type": "code",
   "execution_count": null,
   "metadata": {},
   "outputs": [],
   "source": []
  }
 ],
 "metadata": {
  "kernelspec": {
   "display_name": "Julia 1.11.3",
   "language": "julia",
   "name": "julia-1.11"
  },
  "language_info": {
   "file_extension": ".jl",
   "mimetype": "application/julia",
   "name": "julia",
   "version": "1.11.3"
  }
 },
 "nbformat": 4,
 "nbformat_minor": 2
}
